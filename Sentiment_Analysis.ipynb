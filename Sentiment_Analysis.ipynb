{
 "cells": [
  {
   "cell_type": "markdown",
   "id": "5dbbb831",
   "metadata": {},
   "source": [
    "# 1. Install and import Dependencies"
   ]
  },
  {
   "cell_type": "code",
   "execution_count": 1,
   "id": "e9e154a4",
   "metadata": {
    "scrolled": true
   },
   "outputs": [
    {
     "name": "stdout",
     "output_type": "stream",
     "text": [
      "Looking in links: https://download.pytorch.org/whl/cu113/torch_stable.html\n",
      "Collecting torch==1.10.1+cu113\n",
      "  Downloading https://download.pytorch.org/whl/cu113/torch-1.10.1%2Bcu113-cp39-cp39-win_amd64.whl (2442.3 MB)\n",
      "Collecting torchvision==0.11.2+cu113\n",
      "  Downloading https://download.pytorch.org/whl/cu113/torchvision-0.11.2%2Bcu113-cp39-cp39-win_amd64.whl (3.2 MB)\n",
      "Collecting torchaudio===0.10.1+cu113\n",
      "  Downloading https://download.pytorch.org/whl/cu113/torchaudio-0.10.1%2Bcu113-cp39-cp39-win_amd64.whl (336 kB)\n",
      "Requirement already satisfied: typing-extensions in c:\\users\\dafzal\\anaconda3\\lib\\site-packages (from torch==1.10.1+cu113) (3.10.0.2)\n",
      "Requirement already satisfied: numpy in c:\\users\\dafzal\\anaconda3\\lib\\site-packages (from torchvision==0.11.2+cu113) (1.20.3)\n",
      "Requirement already satisfied: pillow!=8.3.0,>=5.3.0 in c:\\users\\dafzal\\anaconda3\\lib\\site-packages (from torchvision==0.11.2+cu113) (8.4.0)\n",
      "Installing collected packages: torch, torchvision, torchaudio\n",
      "Successfully installed torch-1.10.1+cu113 torchaudio-0.10.1+cu113 torchvision-0.11.2+cu113\n"
     ]
    }
   ],
   "source": [
    "#!pip install torch==1.10.1+cu113 torchvision==0.11.2+cu113 torchaudio===0.10.1+cu113 -f https://download.pytorch.org/whl/cu113/torch_stable.html"
   ]
  },
  {
   "cell_type": "code",
   "execution_count": 2,
   "id": "fb993c2e",
   "metadata": {
    "scrolled": true
   },
   "outputs": [
    {
     "name": "stdout",
     "output_type": "stream",
     "text": [
      "Requirement already satisfied: transformers in c:\\users\\dafzal\\anaconda3\\lib\\site-packages (4.15.0)\n",
      "Requirement already satisfied: requests in c:\\users\\dafzal\\anaconda3\\lib\\site-packages (2.26.0)\n",
      "Requirement already satisfied: beautifulsoup4 in c:\\users\\dafzal\\anaconda3\\lib\\site-packages (4.10.0)\n",
      "Requirement already satisfied: pandas in c:\\users\\dafzal\\anaconda3\\lib\\site-packages (1.3.4)\n",
      "Requirement already satisfied: numpy in c:\\users\\dafzal\\anaconda3\\lib\\site-packages (1.20.3)\n",
      "Requirement already satisfied: packaging>=20.0 in c:\\users\\dafzal\\anaconda3\\lib\\site-packages (from transformers) (21.0)\n",
      "Requirement already satisfied: tqdm>=4.27 in c:\\users\\dafzal\\anaconda3\\lib\\site-packages (from transformers) (4.62.3)\n",
      "Requirement already satisfied: pyyaml>=5.1 in c:\\users\\dafzal\\anaconda3\\lib\\site-packages (from transformers) (6.0)\n",
      "Requirement already satisfied: filelock in c:\\users\\dafzal\\anaconda3\\lib\\site-packages (from transformers) (3.3.1)\n",
      "Requirement already satisfied: regex!=2019.12.17 in c:\\users\\dafzal\\anaconda3\\lib\\site-packages (from transformers) (2021.8.3)\n",
      "Requirement already satisfied: huggingface-hub<1.0,>=0.1.0 in c:\\users\\dafzal\\anaconda3\\lib\\site-packages (from transformers) (0.2.1)\n",
      "Requirement already satisfied: sacremoses in c:\\users\\dafzal\\anaconda3\\lib\\site-packages (from transformers) (0.0.46)\n",
      "Requirement already satisfied: tokenizers<0.11,>=0.10.1 in c:\\users\\dafzal\\anaconda3\\lib\\site-packages (from transformers) (0.10.3)\n",
      "Requirement already satisfied: urllib3<1.27,>=1.21.1 in c:\\users\\dafzal\\anaconda3\\lib\\site-packages (from requests) (1.26.7)\n",
      "Requirement already satisfied: idna<4,>=2.5 in c:\\users\\dafzal\\anaconda3\\lib\\site-packages (from requests) (3.2)\n",
      "Requirement already satisfied: charset-normalizer~=2.0.0 in c:\\users\\dafzal\\anaconda3\\lib\\site-packages (from requests) (2.0.4)\n",
      "Requirement already satisfied: certifi>=2017.4.17 in c:\\users\\dafzal\\anaconda3\\lib\\site-packages (from requests) (2021.10.8)\n",
      "Requirement already satisfied: soupsieve>1.2 in c:\\users\\dafzal\\anaconda3\\lib\\site-packages (from beautifulsoup4) (2.2.1)\n",
      "Requirement already satisfied: pytz>=2017.3 in c:\\users\\dafzal\\anaconda3\\lib\\site-packages (from pandas) (2021.3)\n",
      "Requirement already satisfied: python-dateutil>=2.7.3 in c:\\users\\dafzal\\anaconda3\\lib\\site-packages (from pandas) (2.8.2)\n",
      "Requirement already satisfied: typing-extensions>=3.7.4.3 in c:\\users\\dafzal\\anaconda3\\lib\\site-packages (from huggingface-hub<1.0,>=0.1.0->transformers) (3.10.0.2)\n",
      "Requirement already satisfied: pyparsing>=2.0.2 in c:\\users\\dafzal\\anaconda3\\lib\\site-packages (from packaging>=20.0->transformers) (3.0.4)\n",
      "Requirement already satisfied: six>=1.5 in c:\\users\\dafzal\\anaconda3\\lib\\site-packages (from python-dateutil>=2.7.3->pandas) (1.16.0)\n",
      "Requirement already satisfied: colorama in c:\\users\\dafzal\\anaconda3\\lib\\site-packages (from tqdm>=4.27->transformers) (0.4.4)\n",
      "Requirement already satisfied: click in c:\\users\\dafzal\\anaconda3\\lib\\site-packages (from sacremoses->transformers) (8.0.3)\n",
      "Requirement already satisfied: joblib in c:\\users\\dafzal\\anaconda3\\lib\\site-packages (from sacremoses->transformers) (1.1.0)\n"
     ]
    }
   ],
   "source": [
    "#!pip install transformers requests beautifulsoup4 pandas numpy"
   ]
  },
  {
   "cell_type": "code",
   "execution_count": 1,
   "id": "e0e94632",
   "metadata": {},
   "outputs": [],
   "source": [
    "from transformers import AutoTokenizer, AutoModelForSequenceClassification\n",
    "import torch\n",
    "import requests\n",
    "from bs4 import BeautifulSoup\n",
    "import re\n",
    "import numpy as np\n",
    "import pandas as pd"
   ]
  },
  {
   "cell_type": "markdown",
   "id": "e4f6d54e",
   "metadata": {},
   "source": [
    "# 2. Initialize Model"
   ]
  },
  {
   "cell_type": "code",
   "execution_count": 2,
   "id": "c3fa97f3",
   "metadata": {},
   "outputs": [],
   "source": [
    "tokenizer = AutoTokenizer.from_pretrained('nlptown/bert-base-multilingual-uncased-sentiment')\n",
    "\n",
    "#creates model, link is directly from hugging face transformers\n",
    "model = AutoModelForSequenceClassification.from_pretrained('nlptown/bert-base-multilingual-uncased-sentiment')"
   ]
  },
  {
   "cell_type": "markdown",
   "id": "7ff86728",
   "metadata": {},
   "source": [
    "# 3. Encode and Calculate Sentiment"
   ]
  },
  {
   "cell_type": "code",
   "execution_count": 3,
   "id": "f921d817",
   "metadata": {},
   "outputs": [],
   "source": [
    "tokens = tokenizer.encode('fantastic, this was great, would recoommend', return_tensors = 'pt')\n",
    "#must pass tokenized values to the model"
   ]
  },
  {
   "cell_type": "code",
   "execution_count": 4,
   "id": "b0492841",
   "metadata": {},
   "outputs": [
    {
     "data": {
      "text/plain": [
       "tensor([[  101, 47088,   117, 10372, 10140, 11838,   117, 11008, 44909, 39639,\n",
       "         11719, 10163,   102]])"
      ]
     },
     "execution_count": 4,
     "metadata": {},
     "output_type": "execute_result"
    }
   ],
   "source": [
    "tokens\n",
    "#tokens list is in a list"
   ]
  },
  {
   "cell_type": "code",
   "execution_count": 5,
   "id": "7b7b5470",
   "metadata": {},
   "outputs": [
    {
     "data": {
      "text/plain": [
       "'[CLS] fantastic, this was great, would recoommend [SEP]'"
      ]
     },
     "execution_count": 5,
     "metadata": {},
     "output_type": "execute_result"
    }
   ],
   "source": [
    "tokenizer.decode(tokens[0])\n",
    "#so we take the first element to gain the tokens list, and then we decode this to simply show how encode and decode work"
   ]
  },
  {
   "cell_type": "code",
   "execution_count": 9,
   "id": "ef06fd0d",
   "metadata": {},
   "outputs": [
    {
     "data": {
      "text/plain": [
       "5"
      ]
     },
     "execution_count": 9,
     "metadata": {},
     "output_type": "execute_result"
    }
   ],
   "source": [
    "result = model(tokens)\n",
    "result.logits\n",
    "#torch.argmax(result.logits)\n",
    "int(torch.argmax(result.logits))+1\n",
    "#we add 1 as it starts at 0"
   ]
  },
  {
   "cell_type": "code",
   "execution_count": 10,
   "id": "5855fcab",
   "metadata": {},
   "outputs": [],
   "source": [
    "tokens = tokenizer.encode('fantastic, this was great, would recoommend', return_tensors = 'pt')"
   ]
  },
  {
   "cell_type": "markdown",
   "id": "7528d2bc",
   "metadata": {},
   "source": [
    "# 4. Collect Reviews"
   ]
  },
  {
   "cell_type": "code",
   "execution_count": 27,
   "id": "c4afad64",
   "metadata": {},
   "outputs": [],
   "source": [
    "r = requests.get('https://www.yelp.ca/biz/adda-bistro-toronto?hrid=AuV4ADBfEPtFK0yELEv4pw')\n",
    "soup = BeautifulSoup(r.text, 'html.parser')"
   ]
  },
  {
   "cell_type": "code",
   "execution_count": 28,
   "id": "3fca9d45",
   "metadata": {},
   "outputs": [],
   "source": [
    "regex = re.compile('.*comment.*')\n",
    "results = soup.find_all('p', {'class':regex})"
   ]
  },
  {
   "cell_type": "code",
   "execution_count": 29,
   "id": "f0c0d7c1",
   "metadata": {},
   "outputs": [],
   "source": [
    "reviews = [result.text for result in results]"
   ]
  },
  {
   "cell_type": "code",
   "execution_count": 30,
   "id": "3dd22b3c",
   "metadata": {},
   "outputs": [
    {
     "data": {
      "text/plain": [
       "[\"After COVID-19 I was looking for a good restaurant. One of my friend suggested me Adda Bistro's, their food is hygenic and delicio-ous. Highly recommended. Keep the spirits high.\",\n",
       " 'A hidden gem - The food here was delicious and the staff was warm and friendly. Would definitely eat here again. Especially recommend the Egg Devil and the Thandai cheesecake.',\n",
       " \"I was really happy with Adda Bistro's online ordering process as they have their own vs. having to go through apps like Skip the Dishes. Contactless pickup is great as well. My order was waiting in a labelled brown bag. I would suggest attaching the bill to the outside of the bag to ensure everything is included (it was, but would be helpful to be able to verify upon pickup). My friend and I ordered Chicken Dak, Dhaal Makhni, Steamed Rice, Garlic Naan and Gulab Jamun Cheesecake to share. Everything was delicious and not too spicy. A couple of issues to note: 1. Chicken Dak included 4 small pieces of chicken, 3/4 were unrecognizable parts of the bird with little meat and lots of tiny bones that could be hazardous if swallowed. I enjoyed the boiled egg, but there was only one, although the dish is supposed to be for 2 people. 2. Gulab Jamun Cheesecake was a delicious and innovative twist on a classic Indian dessert. However, for $9 the piece was too small and not quite shareable (we each got a sliver). Overall, a good experience that I would recommend to others.\",\n",
       " 'Really innovative idea and approach. The cheesecake with gulab jamun was really creative and yummy. The rest of the food was also creative and delicious',\n",
       " 'A friend of mine from Scotland was telling me about this place. So looking forward to being able to get out of this damn house lol',\n",
       " 'Just Oder food via \"skip the dish\" \\xa0and it arrive with in the time it said. \\xa0 So the problem was the place did not correctly read the order cause we were missing items of the list. \\xa0Food 3.5/5Butter chicken combo 2 with rice. \\xa0 \\xa0It was good for spice abs flavour. \\xa0 Bread was good too. \\xa0In all perhaps if I went to the place directly the order would be correct but what is the point of that.',\n",
       " 'We have ordered food from them a number of times, always excellent especially the mutton dishes',\n",
       " 'Came into this place because I was craving Indian when I was walking past. Fresh food, made to order - friendly owner who greets you and takes your order. The food was tasty too. And the 20% discount they are doing now helps too!']"
      ]
     },
     "execution_count": 30,
     "metadata": {},
     "output_type": "execute_result"
    }
   ],
   "source": [
    "reviews"
   ]
  },
  {
   "cell_type": "markdown",
   "id": "cc35f9a3",
   "metadata": {},
   "source": [
    "# 5. Load Reviews into DataFrame and Score"
   ]
  },
  {
   "cell_type": "code",
   "execution_count": 47,
   "id": "40e8eb36",
   "metadata": {},
   "outputs": [],
   "source": [
    "list = [\"reviews\", \"hello\", \"goodluck\"]"
   ]
  },
  {
   "cell_type": "code",
   "execution_count": 48,
   "id": "6625e6f4",
   "metadata": {},
   "outputs": [
    {
     "data": {
      "text/plain": [
       "[\"After COVID-19 I was looking for a good restaurant. One of my friend suggested me Adda Bistro's, their food is hygenic and delicio-ous. Highly recommended. Keep the spirits high.\",\n",
       " 'A hidden gem - The food here was delicious and the staff was warm and friendly. Would definitely eat here again. Especially recommend the Egg Devil and the Thandai cheesecake.',\n",
       " \"I was really happy with Adda Bistro's online ordering process as they have their own vs. having to go through apps like Skip the Dishes. Contactless pickup is great as well. My order was waiting in a labelled brown bag. I would suggest attaching the bill to the outside of the bag to ensure everything is included (it was, but would be helpful to be able to verify upon pickup). My friend and I ordered Chicken Dak, Dhaal Makhni, Steamed Rice, Garlic Naan and Gulab Jamun Cheesecake to share. Everything was delicious and not too spicy. A couple of issues to note: 1. Chicken Dak included 4 small pieces of chicken, 3/4 were unrecognizable parts of the bird with little meat and lots of tiny bones that could be hazardous if swallowed. I enjoyed the boiled egg, but there was only one, although the dish is supposed to be for 2 people. 2. Gulab Jamun Cheesecake was a delicious and innovative twist on a classic Indian dessert. However, for $9 the piece was too small and not quite shareable (we each got a sliver). Overall, a good experience that I would recommend to others.\",\n",
       " 'Really innovative idea and approach. The cheesecake with gulab jamun was really creative and yummy. The rest of the food was also creative and delicious',\n",
       " 'A friend of mine from Scotland was telling me about this place. So looking forward to being able to get out of this damn house lol',\n",
       " 'Just Oder food via \"skip the dish\" \\xa0and it arrive with in the time it said. \\xa0 So the problem was the place did not correctly read the order cause we were missing items of the list. \\xa0Food 3.5/5Butter chicken combo 2 with rice. \\xa0 \\xa0It was good for spice abs flavour. \\xa0 Bread was good too. \\xa0In all perhaps if I went to the place directly the order would be correct but what is the point of that.',\n",
       " 'We have ordered food from them a number of times, always excellent especially the mutton dishes',\n",
       " 'Came into this place because I was craving Indian when I was walking past. Fresh food, made to order - friendly owner who greets you and takes your order. The food was tasty too. And the 20% discount they are doing now helps too!']"
      ]
     },
     "execution_count": 48,
     "metadata": {},
     "output_type": "execute_result"
    }
   ],
   "source": [
    "reviews"
   ]
  },
  {
   "cell_type": "code",
   "execution_count": 49,
   "id": "0827fccd",
   "metadata": {},
   "outputs": [
    {
     "data": {
      "text/plain": [
       "['reviews', 'hello', 'goodluck']"
      ]
     },
     "execution_count": 49,
     "metadata": {},
     "output_type": "execute_result"
    }
   ],
   "source": [
    "list"
   ]
  },
  {
   "cell_type": "code",
   "execution_count": null,
   "id": "13cbe908",
   "metadata": {},
   "outputs": [],
   "source": [
    "#df = pd.DataFrame(np.array(list), columns = ['reviews'])"
   ]
  },
  {
   "cell_type": "code",
   "execution_count": 52,
   "id": "7a77bad2",
   "metadata": {},
   "outputs": [],
   "source": [
    "df = pd.DataFrame(np.array(reviews), columns = ['reviews'])"
   ]
  },
  {
   "cell_type": "code",
   "execution_count": 53,
   "id": "3982a6a9",
   "metadata": {},
   "outputs": [
    {
     "data": {
      "text/html": [
       "<div>\n",
       "<style scoped>\n",
       "    .dataframe tbody tr th:only-of-type {\n",
       "        vertical-align: middle;\n",
       "    }\n",
       "\n",
       "    .dataframe tbody tr th {\n",
       "        vertical-align: top;\n",
       "    }\n",
       "\n",
       "    .dataframe thead th {\n",
       "        text-align: right;\n",
       "    }\n",
       "</style>\n",
       "<table border=\"1\" class=\"dataframe\">\n",
       "  <thead>\n",
       "    <tr style=\"text-align: right;\">\n",
       "      <th></th>\n",
       "      <th>reviews</th>\n",
       "    </tr>\n",
       "  </thead>\n",
       "  <tbody>\n",
       "    <tr>\n",
       "      <th>3</th>\n",
       "      <td>Really innovative idea and approach. The chees...</td>\n",
       "    </tr>\n",
       "    <tr>\n",
       "      <th>4</th>\n",
       "      <td>A friend of mine from Scotland was telling me ...</td>\n",
       "    </tr>\n",
       "    <tr>\n",
       "      <th>5</th>\n",
       "      <td>Just Oder food via \"skip the dish\"  and it arr...</td>\n",
       "    </tr>\n",
       "    <tr>\n",
       "      <th>6</th>\n",
       "      <td>We have ordered food from them a number of tim...</td>\n",
       "    </tr>\n",
       "    <tr>\n",
       "      <th>7</th>\n",
       "      <td>Came into this place because I was craving Ind...</td>\n",
       "    </tr>\n",
       "  </tbody>\n",
       "</table>\n",
       "</div>"
      ],
      "text/plain": [
       "                                             reviews\n",
       "3  Really innovative idea and approach. The chees...\n",
       "4  A friend of mine from Scotland was telling me ...\n",
       "5  Just Oder food via \"skip the dish\"  and it arr...\n",
       "6  We have ordered food from them a number of tim...\n",
       "7  Came into this place because I was craving Ind..."
      ]
     },
     "execution_count": 53,
     "metadata": {},
     "output_type": "execute_result"
    }
   ],
   "source": [
    "df.tail()"
   ]
  },
  {
   "cell_type": "code",
   "execution_count": 62,
   "id": "aab0480c",
   "metadata": {},
   "outputs": [],
   "source": [
    "def sentiment(string):\n",
    "    tokens = tokenizer.encode(string, return_tensors = 'pt')\n",
    "    result = model(tokens)\n",
    "    return int(torch.argmax(result.logits))+1\n",
    "\n",
    "df['sentiment'] = df['reviews'].apply(lambda x: sentiment(x[:512]))"
   ]
  },
  {
   "cell_type": "code",
   "execution_count": 63,
   "id": "bf88d774",
   "metadata": {},
   "outputs": [
    {
     "data": {
      "text/html": [
       "<div>\n",
       "<style scoped>\n",
       "    .dataframe tbody tr th:only-of-type {\n",
       "        vertical-align: middle;\n",
       "    }\n",
       "\n",
       "    .dataframe tbody tr th {\n",
       "        vertical-align: top;\n",
       "    }\n",
       "\n",
       "    .dataframe thead th {\n",
       "        text-align: right;\n",
       "    }\n",
       "</style>\n",
       "<table border=\"1\" class=\"dataframe\">\n",
       "  <thead>\n",
       "    <tr style=\"text-align: right;\">\n",
       "      <th></th>\n",
       "      <th>reviews</th>\n",
       "      <th>sentiment</th>\n",
       "    </tr>\n",
       "  </thead>\n",
       "  <tbody>\n",
       "    <tr>\n",
       "      <th>0</th>\n",
       "      <td>After COVID-19 I was looking for a good restau...</td>\n",
       "      <td>5</td>\n",
       "    </tr>\n",
       "    <tr>\n",
       "      <th>1</th>\n",
       "      <td>A hidden gem - The food here was delicious and...</td>\n",
       "      <td>5</td>\n",
       "    </tr>\n",
       "    <tr>\n",
       "      <th>2</th>\n",
       "      <td>I was really happy with Adda Bistro's online o...</td>\n",
       "      <td>4</td>\n",
       "    </tr>\n",
       "    <tr>\n",
       "      <th>3</th>\n",
       "      <td>Really innovative idea and approach. The chees...</td>\n",
       "      <td>5</td>\n",
       "    </tr>\n",
       "    <tr>\n",
       "      <th>4</th>\n",
       "      <td>A friend of mine from Scotland was telling me ...</td>\n",
       "      <td>5</td>\n",
       "    </tr>\n",
       "    <tr>\n",
       "      <th>5</th>\n",
       "      <td>Just Oder food via \"skip the dish\"  and it arr...</td>\n",
       "      <td>3</td>\n",
       "    </tr>\n",
       "    <tr>\n",
       "      <th>6</th>\n",
       "      <td>We have ordered food from them a number of tim...</td>\n",
       "      <td>5</td>\n",
       "    </tr>\n",
       "    <tr>\n",
       "      <th>7</th>\n",
       "      <td>Came into this place because I was craving Ind...</td>\n",
       "      <td>5</td>\n",
       "    </tr>\n",
       "  </tbody>\n",
       "</table>\n",
       "</div>"
      ],
      "text/plain": [
       "                                             reviews  sentiment\n",
       "0  After COVID-19 I was looking for a good restau...          5\n",
       "1  A hidden gem - The food here was delicious and...          5\n",
       "2  I was really happy with Adda Bistro's online o...          4\n",
       "3  Really innovative idea and approach. The chees...          5\n",
       "4  A friend of mine from Scotland was telling me ...          5\n",
       "5  Just Oder food via \"skip the dish\"  and it arr...          3\n",
       "6  We have ordered food from them a number of tim...          5\n",
       "7  Came into this place because I was craving Ind...          5"
      ]
     },
     "execution_count": 63,
     "metadata": {},
     "output_type": "execute_result"
    }
   ],
   "source": [
    "df"
   ]
  },
  {
   "cell_type": "code",
   "execution_count": null,
   "id": "21f3dfca",
   "metadata": {},
   "outputs": [],
   "source": []
  }
 ],
 "metadata": {
  "kernelspec": {
   "display_name": "Python 3 (ipykernel)",
   "language": "python",
   "name": "python3"
  },
  "language_info": {
   "codemirror_mode": {
    "name": "ipython",
    "version": 3
   },
   "file_extension": ".py",
   "mimetype": "text/x-python",
   "name": "python",
   "nbconvert_exporter": "python",
   "pygments_lexer": "ipython3",
   "version": "3.9.7"
  }
 },
 "nbformat": 4,
 "nbformat_minor": 5
}
